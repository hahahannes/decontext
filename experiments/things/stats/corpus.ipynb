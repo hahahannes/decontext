{
 "cells": [
  {
   "cell_type": "code",
   "execution_count": 1,
   "metadata": {},
   "outputs": [
    {
     "name": "stdout",
     "output_type": "stream",
     "text": [
      "/home/hhansen/decon/decon_env/DecontextEmbeddings/data\n"
     ]
    }
   ],
   "source": [
    "from os.path import join as pjoin\n",
    "import sys \n",
    "sys.path.append('/home/hhansen/DecontextEmbeddings')\n",
    "import os \n",
    "os.environ['EMBEDDING_EVALUATION_DATA_PATH'] = '/home/hhansen/DecontextEmbeddings/helpers/embedding_evaluation/data/'\n",
    "DATA_DIR = '/home/hhansen/DecontextEmbeddings/data'\n",
    "os.environ['DATA_DIR'] = DATA_DIR\n",
    "FIGURE_OUTPUT_DIR = pjoin(DATA_DIR, 'figures', 'things_stats')\n",
    "\n",
    "import pandas as pd\n",
    "import matplotlib.pyplot as plt\n",
    "\n",
    "from helpers.data import load_embedding_to_df\n",
    "from helpers.things_evaluation.evaluate import read_embeddings\n",
    "from helpers.plot import set_style_and_font_size\n",
    "\n",
    "set_style_and_font_size()"
   ]
  },
  {
   "cell_type": "code",
   "execution_count": 2,
   "metadata": {},
   "outputs": [],
   "source": [
    "def missing_things(df):\n",
    "    words = set(pd.read_csv(f'{DATA_DIR}/things/things_concepts.tsv', sep='\\t')['uniqueID'])\n",
    "    missing = words.difference(df.index)\n",
    "    print(missing)\n",
    "    print(f'{len(missing)} missing of {len(words)}')\n",
    "\n",
    "def stats_things(corpus_folder):\n",
    "    matchings = ['word', 'synset', 'main_word', 'concept_id']\n",
    "    dfs = []\n",
    "    for matching in matchings:\n",
    "        print(f'Matching: {matching}')\n",
    "        path = f'{EMBEDDING_DATA_DIR}/thinga/{corpus_folder}/decontext/bert-base/1/{matching}/mean/1/decontext.txt'\n",
    "        df = read_embeddings(path, matching, keep_n_contexts=True)[['n_contexts']]\n",
    "        df = df.sort_values(by='n_contexts', ascending=False)\n",
    "        dfs.append(df)\n",
    "        \n",
    "        total = df['n_contexts'].sum()\n",
    "        print(f'Total number of embeddings: {total}')\n",
    "        print(f'{df.shape[0]} concepts found')\n",
    "        #print(df['n_contexts'].describe())\n",
    "        missing_things(df)\n",
    "\n",
    "    return dfs"
   ]
  },
  {
   "cell_type": "code",
   "execution_count": 3,
   "metadata": {},
   "outputs": [],
   "source": [
    "def plot_hist(df_word, df_synset, df_main_word, df_concept_id):\n",
    "    fig, axes = plt.subplots(1,4, figsize=(10,3), sharey=True, sharex=True)\n",
    "    axes[0].hist(df_word['n_contexts'], bins=200)\n",
    "    axes[1].hist(df_synset['n_contexts'], bins=200)\n",
    "    axes[2].hist(df_main_word['n_contexts'], bins=200)\n",
    "    axes[3].hist(df_concept_id['n_contexts'], bins=200)\n",
    "    axes[0].set_ylabel('number of words')\n",
    "    axes[0].set_xlabel('number of contexts')\n",
    "    axes[0].set_title('per word')\n",
    "    axes[1].set_title('per word sense')\n",
    "    axes[2].set_title('per concept')\n",
    "    axes[3].set_title('per synset')\n",
    "\n",
    "def plot_boxplot(df_word, df_synset, df_main_word, df_concept_id):\n",
    "    fig, axes = plt.subplots(1,1, figsize=(11.69,5), sharey=True, sharex=True)\n",
    "    axes.boxplot([df_word['n_contexts'], df_synset['n_contexts'], df_main_word['n_contexts'], df_concept_id['n_contexts']], vert=False)\n",
    "    axes.set_yticks([1,2,3,4])\n",
    "    axes.set_yticklabels(['word', 'word sense', 'concept', 'synset'])\n",
    "    axes.set_xlabel('number of contexts')\n"
   ]
  },
  {
   "cell_type": "code",
   "execution_count": 4,
   "metadata": {},
   "outputs": [
    {
     "name": "stdout",
     "output_type": "stream",
     "text": [
      "Matching: word\n",
      "Total number of embeddings: 1607766\n",
      "1852 concepts found\n",
      "{'ticktacktoe', 'iceskate'}\n",
      "2 missing of 1854\n",
      "Matching: synset\n",
      "Total number of embeddings: 820555\n",
      "1084 concepts found\n",
      "{'piano', 'teacup', 'fox', 'van', 'nose', 'drill', 'tank1', 'wing', 'fire_pit', 'swab', 'cable', 'cardinal', 'fingerprint', 'fork', 'scrabble', 'riser', 'grille', 'heater', 'table', 'chest2', 'pine_tree', 'baton4', 'pants', 'hairspray', 'cushion', 'jeans', 'pearl', 'sandbox', 'cap', 'sim_card', 'crab', 'curb', 'powder', 'burner', 'telegraph', 'yoke', 'roll', 'stew', 'chihuahua', 'wasp', 'bolt', 'boomerang', 'globe', 'fire', 'shell2', 'spareribs', 'scallop', 'raccoon', 'stretcher', 'rag', 'alpaca', 'plunger', 'car', 'nest', 'pedal', 'home_plate', 'rack2', 'gauge', 'rabbit', 'helmet', 'lawnmower', 'vacuum', 'truck', 'spring_roll', 'knitting', 'quill', 'glove', 'loom', 'pipe2', 'boar', 'fig', 'blowfish', 'blueberry', 'tattoo', 'walker1', 'rim', 'branch', 'swordfish', 'tweezers', 'banana', 'peg', 'rope', 'drain', 'mantle', 'sheet', 'cucumber', 'barcode', 'skin', 'cherry', 'mouth', 'airboat', 'chaps', 'mullet', 'penholder', 'whiteboard', 'tile', 'jack', 'saddle', 'quad', 'tack', 'train', 'guillotine', 'cape', 'panther', 'net', 'beaver', 'lettuce', 'ready_meal', 'pig', 'cantaloupe', 'goose', 'footrest', 'basketball_hoop', 'puppet', 'headlamp', 'flatiron', 'submarine', 'muff', 'tick', 'boot', 'cigarette', 'chinchilla', 'light_switch', 'shaker', 'brake', 'suit', 'nut', 'chickpea', 'record', 'drink', 'pallet', 'ball', 'clasp', 'marble', 'remote_control', 'wedge', 'shelf', 'chalk', 'prune', 'drumstick', 'goblet', 'wagon', 'snake', 'ottoman', 'swan', 'football', 'thread', 'contact_lens', 'hoodie', 'trashcan', 'trophy', 'mask', 'pillbox', 'thimble', 'chips', 'coconut', 'barrel', 'scoop', 'centerpiece', 'tank2', 'bowler_hat', 'pumpkin', 'column', 'wafer', 'spur', 'pinwheel', 'glass', 'tape', 'float', 'pennant', 'costume', 'icemaker', 'wreck', 'chain', 'goat', 'dip', 'generator', 'dreidel', 'gun', 'purse', 'parachute', 'walker2', 'hairdryer', 'gem', 'wetsuit', 'weasel', 'peeler', 'parsley', 'eyedropper', 'trailer', 'popcorn', 'trough', 'tiger', 'ruby', 'plug', 'plate', 'tent', 'sponge', 'pole', 'sweet_potato', 'artichoke', 'crumb', 'pineapple', 'mustard', 'boxing_gloves', 'fence', 'landmine', 'gravel', 'handbrake', 'crayfish', 'bank', 'doghouse', 'ferret', 'lamb_chop', 'hose', 'macaroni', 'airbag', 'match', 'stamp1', 'tuxedo', 'camper', 'tie', 'swing', 'block', 'dollhouse', 'reel', 'fruitcake', 'stool', 'gong', 'touchpad', 'rhinoceros', 'scale', 'okra', 'lid', 'ticktacktoe', 'duffel_bag', 'anklet', 'fishnet_stockings', 'microwave', 'road_sign', 'file1', 'screen2', 'bubble_wrap', 'crown', 'skunk', 'gopher', 'pastry', 'stilt', 'tape_measure', 'straw2', 'spaghetti', 'pudding', 'lamp', 'palette', 'sand', 'pepper1', 'jalapeno', 'jewel', 'hamburger', 'photo_booth', 'throne', 'altar', 'balloon', 'green_beans', 'hook1', 'headphones', 'sail', 'slot', 'coffeemaker', 'grapefruit', 'batter', 'slipper', 'hail', 'paddle', 'ship', 'railing', 'target', 'flyswatter', 'peacock', 'couch', 'stem', 'bow2', 'calculator', 'lanyard', 'fossil', 'dress', 'turtle', 'amber', 'wrap', 'kale', 'turkey', 'cloud', 'wick', 'cordon_bleu', 'tongue', 'highlighter', 'splinter', 'clay', 'mole', 'coffee_bean', 'ratchet', 'triangle', 'cranberry', 'phone', 'hip', 'pipe1', 'wheel', 'papaya', 'otter', 'siren', 'shutter', 'ginger', 'napkin', 'roadsweeper', 'chicken2', 'cloak', 'crank', 'hotdog', 'pot', 'shoe', 'bobsled', 'tablet', 'buffet', 'mussel', 'turban', 'calzone', 'fondue', 'thorn', 'beehive', 'eel', 'jam', 'easter_egg', 'juicer2', 'teddy_bear', 'clipper2', 'slide', 'map', 'toy', 'hammer', 'garbage', 'rattle', 'noodle', 'sticker', 'puddle', 'bowling_ball', 'mint', 'peppermint', 'punch1', 'button2', 'catapult', 'cereal', 'diamond', 'gourd', 'spider_web', 'root', 'egg', 'lumber', 'latch', 'spoon', 'laser_pointer', 'poster', 'stump', 'fly', 'grinder', 'palm_tree', 'handprint', 'fuse', 'mug', 'book', 'film', 'mud', 'dish', 'carrot', 'tinsel', 'brush', 'radiator', 'stiletto', 'tee', 'snowball', 'cage', 'key', 'radio', 'celery', 'rifle', 'tarantula', 'knot', 'coffee', 'sardine', 'bread', 'wrench', 'bologna', 'cake', 'yarn', 'saffron', 'pea', 'chariot', 'dough', 'strap', 'plum', 'pecan', 'weed', 'eye', 'wind_chimes', 'sombrero', 'trapdoor', 'rose', 'pocket', 'cord', 'drawer', 'plant', 'shorts', 'soda_fountain', 'flower', 'can', 'board', 'lunchbox', 'horse', 'crane', 'bamboo', 'marker', 'sidecar', 'limousine', 'punch2', 'nail', 'coop', 'cauliflower', 'rat', 'switch', 'woman', 'makeup', 'torpedo', 'wheat', 'quiche', 'counter', 'bumper', 'bib', 'lobster', 'kiwi', 'rack1', 'duster', 'boxer_shorts', 'ear', 'memory_stick', 'man', 'pistachio', 'hand', 'jar', 'hood', 'volleyball', 'licorice', 'binder', 'squash', 'dolly', 'racket', 'canvas', 'leaf', 'sandcastle', 'waterwheel', 'pepper2', 'sweater', 'tree', 'pasta', 'fencepost', 'stove2', 'wand', 'baton3', 'retainer', 'wire_cutters', 'patch', 'shovel', 'sling', 'leash', 'arrow', 'mango', 'seaplane', 'bat2', 'belt', 'duck', 'octopus', 'tumbleweed', 'pickle', 'mouse2', 'anteater', 'mixer', 'charger', 'alligator', 'valve', 'mushroom', 'hole', 'bull', 'slicer', 'doorhandle', 'firetruck', 'screw', 'saucer', 'corsage', 'duckling', 'coral', 'sloth', 'ostrich', 'crow', 'punching_bag', 'chisel', 'almond', 'buggy', 'roller', 'rust', 'carousel', 'bikini', 'toast', 'shower', 'bow3', 'oyster', 'gumball', 'mulberry', 'jetski', 'leech', 'uniform', 'router', 'snail', 'girl', 'meat', 'computer', 'sugar_cube', 'hair', 'mail', 'bracket', 'torch', 'cat', 'file2', 'toothbrush', 'coil', 'soy_sauce', 'teabag', 'taco', 'lollipop', 'outlet', 'train_car', 'scrambled_egg', 'vest', 'horn', 'trunk', 'boa', 'boy', 'waffle', 'hawk', 'ribbon', 'blanket', 'scooter', 'slime', 'lighter', 'duct', 'hook2', 'pom-pom', 'sprouts', 'watch', 'zucchini', 'knob', 'whale', 'suspenders', 'squid', 'mallet', 'lime', 'sheath', 'calf2', 'backscratcher', 'bunkbed', 'grain', 'pill', 'roller_coaster', 'mold1', 'domino', 'mistletoe', 'bin', 'javelin', 'funnel', 'crystal2', 'yak', 'lip_gloss', 'hobbyhorse', 'jacket', 'timer', 'gift', 'grapevine', 'motorcycle', 'sausage', 'mold2', 'wire', 'pajamas', 'tamale', 'raft', 'honey', 'cross', 'stirrup', 'cream', 'asparagus', 'abacus', 'iron', 'scaffold', 'pomegranate', 'oil', 'hula_hoop', 'face', 'keg', 'collar', 'catfish', 'mouthpiece', 'dogfood', 'toaster', 'vulture', 'scorpion', 'tapestry', 'handle', 'seal', 'finger', 'potpourri', 'slug', 'prism', 'rocket', 'mannequin', 'dustpan', 'porthole', 'cilantro', 'foot', 'cork', 'peach', 'bracelet1', 'vent', 'baseball', 'jet', 'kaleidoscope', 'smoothie', 'paint', 'jersey', 'rake', 'cabbage', 'coaster', 'album', 'drum', 'ring', 'snow', 'skirt', 'shield', 'foam', 'chip', 'printer', 'ruler', 'thumb', 'whistle', 'whoopee_cushion', 'coal', 'leg', 'piecrust', 'cashew', 'gargoyle', 'wall', 'brownie', 'compass', 'whip', 'wolf', 'pin', 'monkey', 'nail_clippers', 'photograph', 'doll', 'tool', 'dial', 'leopard', 'bathmat', 'stir_fry', 'toilet', 'lemon', 'dice', 'gold', 'wood', 'ski_boots', 'jug', 'carriage', 'bush', 'hanger', 'beet', 'bean', 'battery', 'pony', 'steamroller', 'projector', 'perfume', 'spout', 'gondola', 'grass', 'rollerskate', 'bolo_tie', 'tupperware', 'clove', 'ice', 'outfit', 'flag', 'harp', 'ram', 'grate', 'puck', 'raspberry', 'screen1', 'baton2', 'pitcher', 'spinach', 'sandbag', 'christmas_tree', 'nightstand', 'sweatsuit', 'tag', 'garlic', 'earplug', 'folder', 'trap', 'bun', 'macadamia', 'staple', 'stamp2', 'toad', 'peanut', 'stick', 'treasure', 'orangutan', 'camera2', 'magnet', 'card', 'gravy', 'basketball', 'veil', 'shell1', 'dalmatian', 'mop', 'kite', 'watermelon', 'juicer1', 'revolving_door', 'scanner', 'tab', 'motherboard', 'frame', 'mat', 'marijuana', 'kneepad', 'organ', 'sink', 'lion', 'blind', 'horseshoe', 'rickshaw', 'payphone', 'incense', 'satellite_dish', 'shell3', 'clipper1', 'paper', 'closet', 'rudder', 'robe', 'pump', 'saw', 'needle', 'sparkler', 'tube_top', 'stake', 'swing_set', 'dog', 'lock', 'game', 'straw1'}\n",
      "770 missing of 1854\n",
      "Matching: main_word\n",
      "Total number of embeddings: 1692244\n",
      "1854 concepts found\n",
      "set()\n",
      "0 missing of 1854\n",
      "Matching: concept_id\n"
     ]
    },
    {
     "name": "stdout",
     "output_type": "stream",
     "text": [
      "Total number of embeddings: 803915\n",
      "1017 concepts found\n",
      "{'teacup', 'dresser', 'fox', 'van', 'medal', 'extinguisher', 'drill', 'tank1', 'wing', 'fire_pit', 'swab', 'cardinal', 'fingerprint', 'fork', 'scrabble', 'riser', 'grille', 'table', 'chest2', 'baton4', 'eggshell', 'pants', 'hairspray', 'cushion', 'pearl', 'vial', 'cap', 'sim_card', 'crab', 'powder', 'tarp', 'burner', 'telegraph', 'roll', 'yoke', 'pine_needle', 'hot_chocolate', 'stew', 'chihuahua', 'stroller', 'bolt', 'globe', 'cellphone', 'fire', 'shell2', 'spareribs', 'scallop', 'stretcher', 'magnifying_glass', 'alpaca', 'toilet_paper', 'nest', 'home_plate', 'rack2', 'taxi', 'christmas_card', 'gauge', 'rabbit', 'helmet', 'lawnmower', 'truck', 'vacuum', 'spring_roll', 'quill', 'glove', 'loom', 'floss', 'pipe2', 'boar', 'fig', 'blowfish', 'blueberry', 'tattoo', 'walker1', 'rim', 'branch', 'swordfish', 'tweezers', 'banana', 'chainsaw', 'peg', 'rope', 'lightning_bug', 'mantle', 'sheet', 'barcode', 'cherry', 'mouth', 'airboat', 'chaps', 'mullet', 'penholder', 'whiteboard', 'tile', 'jack', 'saddle', 'quad', 'tack', 'train', 'pulpit', 'guillotine', 'cape', 'panther', 'possum', 'beaver', 'lettuce', 'ready_meal', 'pig', 'pickax', 'goose', 'footrest', 'puppet', 'headlamp', 'xylophone', 'clothes', 'flatiron', 'submarine', 'muff', 'tick', 'boot', 'cigarette', 'chinchilla', 'light_switch', 'shaker', 'brake', 'suit', 'nut', 'chickpea', 'record', 'drink', 'pallet', 'ball', 'clasp', 'marble', 'remote_control', 'wedge', 'shelf', 'chalk', 'prune', 'drumstick', 'goblet', 'wagon', 'bike', 'swan', 'football', 'thread', 'loincloth', 'trashcan', 'hoodie', 'trophy', 'sofa_bed', 'mask', 'soda', 'pillbox', 'thimble', 'stair', 'scoop', 'centerpiece', 'tank2', 'bowler_hat', 'pumpkin', 'moose', 'column', 'wheelbarrow', 'wafer', 'spur', 'pinwheel', 'glass', 'tape', 'float', 'petri_dish', 'sledgehammer', 'pennant', 'plaster_cast', 'costume', 'icemaker', 'wreck', 'chain', 'goat', 'dip', 'generator', 'dreidel', 'gun', 'purse', 'parachute', 'hairdryer', 'walker2', 'wetsuit', 'weasel', 'peeler', 'parsley', 'eyedropper', 'trailer', 'popcorn', 'trough', 'tiger', 'rooster', 'donkey', 'ruby', 'plug', 'plate', 'tent', 'sponge', 'pole', 'sweet_potato', 'artichoke', 'french_horn', 'crumb', 'pineapple', 'mustard', 'boxing_gloves', 'landmine', 'viewfinder', 'cement_mixer', 'handbrake', 'bank', 'doghouse', 'ferret', 'lamb_chop', 'pacifier', 'macaroni', 'airbag', 'match', 'stamp1', 'tuxedo', 'lifesaver', 'tie', 'panda', 'block', 'swing', 'tree_trunk', 'dollhouse', 'freezer', 'reel', 'fruitcake', 'stool', 'touchpad', 'rhinoceros', 'dumpster', 'scale', 'okra', 'lid', 'duffel_bag', 'golf_cart', 'fishnet_stockings', 'saxophone', 'microwave', 'road_sign', 'file1', 'screen2', 'bubble_wrap', 'crown', 'washing_machine', 'videogame', 'skunk', 'gopher', 'pastry', 'stilt', 'straw2', 'spaghetti', 'lamp', 'pudding', 'palette', 'sand', 'sweeper', 'yolk', 'zipper', 'jalapeno', 'hamburger', 'photo_booth', 'throne', 'altar', 'balloon', 'green_beans', 'hook1', 'headphones', 'sail', 'slot', 'coffeemaker', 'scuba', 'grapefruit', 'batter', 'solar_panel', 'seatbelt', 'slipper', 'hail', 'paddle', 'ship', 'railing', 'hotplate', 'target', 'flyswatter', 'peacock', 'couch', 'stem', 'bow2', 'jumpsuit', 'lanyard', 'doorknocker', 'fossil', 'blimp', 'dress', 'turtle', 'breadbox', 'amber', 'seagull', 'wrap', 'gum', 'turkey', 'cloud', 'wick', 'cordon_bleu', 'highlighter', 'splinter', 'clay', 'rhubarb', 'mole', 'tackle', 'coffee_bean', 'ratchet', 'lightbulb', 'triangle', 'cranberry', 'ski_lift', 'calamari', 'phone', 'hip', 'pipe1', 'wheel', 'papaya', 'otter', 'siren', 'shutter', 'ginger', 'bra', 'roadsweeper', 'polaroid', 'cloak', 'roof_rack', 'crank', 'pot', 'shoe', 'reindeer', 'bobsled', 'buffet', 'tablet', 'coat_rack', 'mussel', 'cornucopia', 'turban', 'calzone', 'fondue', 'thorn', 'beehive', 'eel', 'jam', 'sandpaper', 'easter_egg', 'juicer2', 'croissant', 'clipper2', 'slide', 'map', 'toy', 'hard_disk', 'hammer', 'lego', 'garbage', 'rattle', 'noodle', 'tuba', 'sticker', 'puddle', 'bowling_ball', 'mint', 'peppermint', 'punch1', 'button2', 'cereal', 'diamond', 'gourd', 'spider_web', 'velcro', 'root', 'lumber', 'latch', 'arugula', 'spoon', 'laser_pointer', 'stump', 'poster', 'badger', 'fly', 'grinder', 'handprint', 'fuse', 'robot', 'mug', 'iguana', 'book', 'film', 'mud', 'dish', 'carrot', 'tinsel', 'brush', 'radiator', 'stiletto', 'tee', 'snowball', 'key', 'radio', 'celery', 'rifle', 'tarantula', 'coffee', 'knot', 'sardine', 'twig', 'cake', 'yarn', 'saffron', 'chariot', 'pea', 'strap', 'dough', 'plum', 'pecan', 'dirt_bike', 'weed', 'wind_chimes', 'trapdoor', 'pocket', 'cord', 'drawer', 'trolley', 'plant', 'shorts', 'soda_fountain', 'flower', 'orange_rind', 'can', 'board', 'lunchbox', 'horse', 'crane', 'bamboo', 'marker', 'sidecar', 'limousine', 'punch2', 'humvee', 'nail', 'coop', 'cauliflower', 'rat', 'switch', 'makeup', 'torpedo', 'wheat', 'counter', 'skeleton', 'bumper', 'wine_cooler', 'bib', 'lobster', 'kiwi', 'rack1', 'duster', 'donut', 'boxer_shorts', 'ear', 'memory_stick', 'pistachio', 'chive', 'jar', 'hood', 'volleyball', 'licorice', 'squash', 'spam', 'dolly', 'canvas', 'leaf', 'chess_piece', 'top_hat', 'beachball', 'golf_club', 'sandcastle', 'waterwheel', 'recorder', 'stomach', 'pepper2', 'paperclip', 'sweater', 'tree', 'pasta', 'fencepost', 'stove2', 'wand', 'baton3', 'retainer', 'undershirt', 'wire_cutters', 'patch', 'shovel', 'ukulele', 'arrow', 'mango', 'seaplane', 'bat2', 'belt', 'duck', 'trumpet', 'octopus', 'tumbleweed', 'guardrail', 'pickle', 'mouse2', 'anteater', 'mixer', 'charger', 'valve', 'mushroom', 'hole', 'bull', 'slicer', 'doorhandle', 'firetruck', 'screw', 'saucer', 'corsage', 'subway', 'duckling', 'coral', 'sloth', 'ostrich', 'crepe', 'crow', 'punching_bag', 'chisel', 'almond', 'buggy', 'roller', 'rust', 'carousel', 'toast', 'shower', 'bow3', 'bowtie', 'station_wagon', 'oyster', 'gumball', 'mulberry', 'jetski', 'uniform', 'router', 'snail', 'girl', 'meat', 'pet_food', 'sugar_cube', 'hair', 'mail', 'bracket', 'meatloaf', 'torch', 'cat', 'rocking_horse', 'file2', 'toothbrush', 'wooden_leg', 'coil', 'loveseat', 'soy_sauce', 'teabag', 'taco', 'lollipop', 'polar_bear', 'cutting_board', 'outlet', 'train_car', 'scrambled_egg', 'horn', 'trunk', 'boa', 'graffiti', 'boy', 'waffle', 'hawk', 'ribbon', 'blanket', 'scooter', 'slime', 'squirt_gun', 'lighter', 'duct', 'hook2', 'pom-pom', 'sprouts', 'watch', 'star_fruit', 'zucchini', 'flashbulb', 'knob', 'whale', 'suspenders', 'squid', 'mallet', 'lime', 'sheath', 'calf2', 'backscratcher', 'bunkbed', 'pill', 'jackhammer', 'roller_coaster', 'glasses', 'mold1', 'plastic_film', 'latte', 'mistletoe', 'bin', 'javelin', 'fire_hydrant', 'funnel', 'crystal2', 'candelabra', 'yak', 'lip_gloss', 'hobbyhorse', 'jacket', 'trigger', 'timer', 'gift', 'motorcycle', 'copier', 'frisbee', 'sausage', 'mold2', 'wire', 'raft', 'honey', 'paper_bag', 'cross', 'stirrup', 'asparagus', 'abacus', 'iron', 'scaffold', 'pomegranate', 'oil', 'hula_hoop', 'face', 'snack', 'keg', 'collar', 'catfish', 'exerciser', 'dogfood', 'toaster', 'vulture', 'scorpion', 'rollerblade', 'seal', 'finger', 'potpourri', 'slug', 'prism', 'rocket', 'mannequin', 'dustpan', 'porthole', 'cilantro', 'cork', 'peach', 'bracelet1', 'vent', 'baseball', 'jet', 'kaleidoscope', 'smoothie', 'paint', 'jersey', 'weather_vane', 'rake', 'cabbage', 'coaster', 'album', 'ring', 'skirt', 'foam', 'suitcase', 'whistle', 'whoopee_cushion', 'coal', 'leg', 'piecrust', 'cashew', 'gargoyle', 'wall', 'brownie', 'teepee', 'phone_booth', 'compass', 'sundae', 'whip', 'wolf', 'pin', 'smoke_alarm', 'monkey', 'nail_clippers', 'photograph', 'visor', 'tool', 'dial', 'leopard', 'ferris_wheel', 'bathmat', 't-shirt', 'straightjacket', 'stir_fry', 'lemon', 'dice', 'gold', 'wood', 'popsicle', 'ski_boots', 'sorbet', 'jug', 'carriage', 'bush', 'hanger', 'beet', 'bean', 'speaker', 'battery', 'pony', 'chalkboard', 'projector', 'perfume', 'cd_player', 'spout', 'gondola', 'grass', 'dishwashing_liquid', 'rollerskate', 'bolo_tie', 'tupperware', 'clove', 'ice', 'flag', 'police_car', 'harp', 'ram', 'grate', 'raspberry', 'luggage', 'screen1', 'baton2', 'spool', 'spinach', 'sandbag', 'christmas_tree', 'nightstand', 'sweatsuit', 'tag', 'garlic', 'kebab', 'earplug', 'folder', 'laundry_basket', 'trap', 'bun', 'macadamia', 'staple', 'blinder', 'stamp2', 'toad', 'shrimp', 'peanut', 'orangutan', 'treasure', 'stick', 'magnet', 'camera2', 'gravy', 'card', 'basketball', 'veil', 'shell1', 'dalmatian', 'mop', 'kite', 'filing_cabinet', 'watermelon', 'juicer1', 'revolving_door', 'scanner', 'tab', 'motherboard', 'frame', 'mat', 'kneepad', 'organ', 'sink', 'lion', 'horseshoe', 'rickshaw', 'payphone', 'incense', 'satellite_dish', 'ketchup', 'shell3', 'clipper1', 'paper', 'closet', 'rudder', 'robe', 'water_fountain', 'pump', 'locker', 'saw', 'polisher', 'needle', 'ping-pong_table', 'sparkler', 'tube_top', 'scallion', 'stake', 'swing_set', 'dog', 'fishing_pole', 'lock', 'game', 'straw1', 'brass_knuckles'}\n",
      "837 missing of 1854\n"
     ]
    }
   ],
   "source": [
    "df_word, df_synset, df_main_word, df_concept_id = stats_things('wikidumps')"
   ]
  },
  {
   "cell_type": "code",
   "execution_count": 5,
   "metadata": {},
   "outputs": [
    {
     "data": {
      "image/png": "[encoded data removed]",
      "text/plain": [
       "<Figure size 720x216 with 4 Axes>"
      ]
     },
     "metadata": {
      "needs_background": "light"
     },
     "output_type": "display_data"
    }
   ],
   "source": [
    "plot_hist(df_word, df_synset, df_main_word, df_concept_id)\n",
    "plt.savefig(f'things_wikidumps_hist.pdf', bbox_inches='tight')\n"
   ]
  },
  {
   "cell_type": "code",
   "execution_count": 6,
   "metadata": {},
   "outputs": [
    {
     "data": {
      "image/png": "[encoded data removed]",
      "text/plain": [
       "<Figure size 841.68x360 with 1 Axes>"
      ]
     },
     "metadata": {
      "needs_background": "light"
     },
     "output_type": "display_data"
    }
   ],
   "source": [
    "plot_boxplot(df_word, df_synset, df_main_word, df_concept_id)\n",
    "plt.savefig(f'things_wikidumps_boxpot.pdf', bbox_inches='tight')\n"
   ]
  },
  {
   "cell_type": "code",
   "execution_count": null,
   "metadata": {},
   "outputs": [],
   "source": []
  }
 ],
 "metadata": {
  "interpreter": {
   "hash": "837ca6fc19ef91b2ba70266aef6773e6b6d8f4e054fa070c811a1cc63101461c"
  },
  "kernelspec": {
   "display_name": "Python 3",
   "language": "python",
   "name": "python3"
  },
  "language_info": {
   "codemirror_mode": {
    "name": "ipython",
    "version": 3
   },
   "file_extension": ".py",
   "mimetype": "text/x-python",
   "name": "python",
   "nbconvert_exporter": "python",
   "pygments_lexer": "ipython3",
   "version": "3.8.5"
  }
 },
 "nbformat": 4,
 "nbformat_minor": 2
}
