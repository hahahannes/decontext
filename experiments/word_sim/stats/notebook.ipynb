{
 "cells": [
  {
   "cell_type": "code",
   "execution_count": 1,
   "metadata": {},
   "outputs": [],
   "source": [
    "import pandas as pd\n",
    "import matplotlib.pyplot as plt\n",
    "import seaborn as sns\n",
    "\n",
    "import os \n",
    "import sys \n",
    "sys.path.append('../../..')\n",
    "sys.path\n",
    "os.environ['DATA_DIR'] = '/home/hhansen/DecontextEmbeddings/data'\n",
    "\n",
    "from helpers.data import load_embedding_to_df\n",
    "from helpers.plot import set_style_and_font_size\n",
    "set_style_and_font_size()"
   ]
  },
  {
   "cell_type": "code",
   "execution_count": 2,
   "metadata": {},
   "outputs": [],
   "source": [
    "def missing_wordsim(df):\n",
    "    words = set(pd.read_csv(f'{os.environ.get('DATA_DIR'))}/vocabulary/word_sim_vocabulary.csv', header=None, names=['words'])['words'])\n",
    "    missing = words.difference(set(df['word']))\n",
    "    print(f'{len(missing)} missing of {len(words)}')\n",
    "\n",
    "def stats_wordsim(corpus_folder):\n",
    "    path = f'{os.environ.get('DATA_DIR'))}/embeddings/data/word_sim/{corpus_folder}/decontext/bert-base/0/word/mean/1/decontext.txt'\n",
    "    df = load_embedding_to_df(path, 'word')#[['word', 'n_contexts']]\n",
    "    df = df.sort_values(by='n_contexts', ascending=False)\n",
    "    df.head(30)\n",
    "    total = df['n_contexts'].sum()\n",
    "    print(f'Total number of embeddings: {total}')\n",
    "    print(f'{df.shape[0]} concepts found')\n",
    "    print(df['n_contexts'].describe())\n",
    "    missing_wordsim(df)\n",
    "    return df"
   ]
  },
  {
   "cell_type": "code",
   "execution_count": 3,
   "metadata": {},
   "outputs": [],
   "source": [
    "def plot_hist_wordsim(df):\n",
    "    fig, axes = plt.subplots(1,1, figsize=(10, 4))\n",
    "    axes.hist(df['n_contexts'], bins=200)\n",
    "    axes.set_xlabel('number of contexts')\n",
    "    axes.set_ylabel('number of words')\n",
    "\n",
    "def plot_boxplot_wordsim(df):\n",
    "    fig, axes = plt.subplots(1,1, figsize=(11.69,3), sharey=True, sharex=True)\n",
    "    axes.boxplot(df['n_contexts'], vert=False)\n",
    "    axes.set_xlabel('number of contexts')"
   ]
  },
  {
   "cell_type": "markdown",
   "metadata": {},
   "source": [
    "# Wikidumps"
   ]
  },
  {
   "cell_type": "code",
   "execution_count": 4,
   "metadata": {},
   "outputs": [
    {
     "name": "stdout",
     "output_type": "stream",
     "text": [
      "Total number of embeddings: 1517491\n",
      "1323 concepts found\n",
      "count    1323.000000\n",
      "mean     1147.007559\n",
      "std       178.045698\n",
      "min        38.000000\n",
      "25%      1015.000000\n",
      "50%      1126.000000\n",
      "75%      1255.500000\n",
      "max      2258.000000\n",
      "Name: n_contexts, dtype: float64\n",
      "18 missing of 1341\n"
     ]
    }
   ],
   "source": [
    "df = stats_wordsim('wikidumps')"
   ]
  },
  {
   "cell_type": "code",
   "execution_count": 5,
   "metadata": {},
   "outputs": [
    {
     "data": {
      "image/png": "[encoded data removed]",
      "text/plain": [
       "<Figure size 720x288 with 1 Axes>"
      ]
     },
     "metadata": {
      "needs_background": "light"
     },
     "output_type": "display_data"
    }
   ],
   "source": [
    "plot_hist_wordsim(df)\n",
    "plt.savefig(f'wikidumps_hist.pdf', bbox_inches='tight')\n"
   ]
  },
  {
   "cell_type": "code",
   "execution_count": 6,
   "metadata": {},
   "outputs": [
    {
     "data": {
      "image/png": "[encoded data removed]",
      "text/plain": [
       "<Figure size 841.68x216 with 1 Axes>"
      ]
     },
     "metadata": {
      "needs_background": "light"
     },
     "output_type": "display_data"
    }
   ],
   "source": [
    "plot_boxplot_wordsim(df)\n",
    "plt.savefig(f'wikidumps_boxplot.pdf', bbox_inches='tight')\n"
   ]
  },
  {
   "cell_type": "code",
   "execution_count": null,
   "metadata": {},
   "outputs": [],
   "source": []
  }
 ],
 "metadata": {
  "interpreter": {
   "hash": "837ca6fc19ef91b2ba70266aef6773e6b6d8f4e054fa070c811a1cc63101461c"
  },
  "kernelspec": {
   "display_name": "Python 3",
   "language": "python",
   "name": "python3"
  },
  "language_info": {
   "codemirror_mode": {
    "name": "ipython",
    "version": 3
   },
   "file_extension": ".py",
   "mimetype": "text/x-python",
   "name": "python",
   "nbconvert_exporter": "python",
   "pygments_lexer": "ipython3",
   "version": "3.8.5"
  }
 },
 "nbformat": 4,
 "nbformat_minor": 2
}
